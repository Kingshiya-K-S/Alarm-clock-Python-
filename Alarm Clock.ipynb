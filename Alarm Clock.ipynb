{
 "cells": [
  {
   "cell_type": "code",
   "execution_count": null,
   "id": "e1188614",
   "metadata": {},
   "outputs": [],
   "source": [
    "#Python program for Simple Alarm Clock\n"
   ]
  },
  {
   "cell_type": "code",
   "execution_count": null,
   "id": "fe77e450",
   "metadata": {},
   "outputs": [],
   "source": [
    "#pip install pygame\n",
    "from datetime import datetime\n",
    "import time\n",
    "import pygame\n",
    "\n",
    "#asking the user for the time when the alarm will go off.\n",
    "alarm_time = input(\"Enter time in 'HH:MM:SS AM/PM' format: \") #example : 08:42:30 PM\n",
    "\n",
    "#validating the user-provided time\n",
    "def validate_time(alarm_time):\n",
    "    if len(alarm_time) != 11:\n",
    "        return \"Invalid time format! Please try again...\"\n",
    "    else:\n",
    "        if int(alarm_time[0:2]) > 12:\n",
    "            return \"Invalid HOUR format! Please try again...\"\n",
    "        elif int(alarm_time[3:5]) > 59:\n",
    "            return \"Invalid MINUTE format! Please try again...\"\n",
    "        elif int(alarm_time[6:8]) > 59:\n",
    "            return \"Invalid SECOND format! Please try again...\"\n",
    "        else:\n",
    "            return \"ok\"\n",
    "\n",
    "#Calling our function\n",
    "while True:\n",
    "    alarm_time = input(\"Enter time in 'HH:MM:SS AM/PM' format: \")\n",
    "\n",
    "    validate = validate_time(alarm_time.lower())\n",
    "    if validate != \"ok\":\n",
    "        print(validate)\n",
    "    else:\n",
    "        print(f\"Setting alarm for {alarm_time}...\")\n",
    "        break\n",
    "\n",
    "#separately storing the values into different variables\n",
    "alarm_hour = alarm_time[0:2]\n",
    "alarm_min = alarm_time[3:5]\n",
    "alarm_sec = alarm_time[6:8]\n",
    "alarm_period = alarm_time[9:].upper()\n",
    "\n",
    "#a loop so that it keeps executing until our alarms rings.\n",
    "while True:\n",
    "    #getting the current time to compare it with the user-provided time.\n",
    "    now = datetime.now()\n",
    "    current_hour = now.strftime(\"%I\")\n",
    "    current_min = now.strftime(\"%M\")\n",
    "    current_sec = now.strftime(\"%S\")\n",
    "    current_period = now.strftime(\"%p\")\n",
    "    #playing Sound\n",
    "    if alarm_period == current_period:\n",
    "        if alarm_hour == current_hour:\n",
    "            if alarm_min == current_min:\n",
    "                if alarm_sec == current_sec:\n",
    "                    print(\"Wake Up!\")\n",
    "                    pygame.mixer.init()\n",
    "                    pygame.mixer.music.load(r\"C:\\Users\\USER\\OneDrive\\Desktop\\2025 projects\\alarm\\DIA.wav\")\n",
    "\n",
    "                    pygame.mixer.music.play()\n",
    "                    while pygame.mixer.music.get_busy() == True:\n",
    "                        continue\n",
    "                    time.sleep(5)\n",
    "                    exit()\n"
   ]
  },
  {
   "cell_type": "code",
   "execution_count": null,
   "id": "1886f357",
   "metadata": {},
   "outputs": [],
   "source": []
  }
 ],
 "metadata": {
  "kernelspec": {
   "display_name": "Python 3 (ipykernel)",
   "language": "python",
   "name": "python3"
  },
  "language_info": {
   "codemirror_mode": {
    "name": "ipython",
    "version": 3
   },
   "file_extension": ".py",
   "mimetype": "text/x-python",
   "name": "python",
   "nbconvert_exporter": "python",
   "pygments_lexer": "ipython3",
   "version": "3.9.13"
  }
 },
 "nbformat": 4,
 "nbformat_minor": 5
}
